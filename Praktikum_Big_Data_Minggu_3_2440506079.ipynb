{
  "nbformat": 4,
  "nbformat_minor": 0,
  "metadata": {
    "colab": {
      "provenance": [],
      "authorship_tag": "ABX9TyPqDcRmd3nOYYRv71/Tiywr"
    },
    "kernelspec": {
      "name": "python3",
      "display_name": "Python 3"
    },
    "language_info": {
      "name": "python"
    }
  },
  "cells": [
    {
      "cell_type": "code",
      "execution_count": 5,
      "metadata": {
        "colab": {
          "base_uri": "https://localhost:8080/"
        },
        "id": "xLIwRKptWzBS",
        "outputId": "4b7ab675-b506-42cb-f3b9-f3abb68a7eef"
      },
      "outputs": [
        {
          "output_type": "stream",
          "name": "stdout",
          "text": [
            "+------------+--------+------+\n",
            "|EmployeeName| Profesi|Salary|\n",
            "+------------+--------+------+\n",
            "|      Ridwan|   Gamer|  1000|\n",
            "|        Mila|    Guru|  2000|\n",
            "|      Fauzan|  Dokter|  5200|\n",
            "|       Ilham|Karyawan|  4000|\n",
            "|       Gayuh|   Sales|  3000|\n",
            "+------------+--------+------+\n",
            "\n"
          ]
        }
      ],
      "source": [
        "# Tugas 1 Buat DataFrame sederhana dan Operasi dasar\n",
        "from pyspark.sql import SparkSession\n",
        "spark = SparkSession.builder.appName('Profesi').getOrCreate()\n",
        "\n",
        "data = [('Ridwan', 'Gamer', 1000),\n",
        "        ('Mila', 'Guru', 2000),\n",
        "        ('Fauzan', 'Dokter', 5200),\n",
        "        ('Ilham', 'Karyawan', 4000),\n",
        "        ('Gayuh', 'Sales', 3000)]\n",
        "columns = ['EmployeeName', 'Profesi', 'Salary']\n",
        "\n",
        "df = spark.createDataFrame(data, schema=columns)\n",
        "df.show()"
      ]
    },
    {
      "cell_type": "code",
      "source": [
        "# Tugas 2 Gunakan Operasi filter, select, groupBy\n",
        "# Operasi Transformasi DataFrame\n",
        "df.select('EmployeeName', 'Salary').show()\n",
        "df.filter(df['Salary'] > 3000).show()\n",
        "df.groupBy('Profesi').avg('Salary').show()"
      ],
      "metadata": {
        "colab": {
          "base_uri": "https://localhost:8080/"
        },
        "id": "3k4S9WJsc1Ro",
        "outputId": "2cd9d21a-8737-4413-b3b3-179d79265061"
      },
      "execution_count": 7,
      "outputs": [
        {
          "output_type": "stream",
          "name": "stdout",
          "text": [
            "+------------+------+\n",
            "|EmployeeName|Salary|\n",
            "+------------+------+\n",
            "|      Ridwan|  1000|\n",
            "|        Mila|  2000|\n",
            "|      Fauzan|  5200|\n",
            "|       Ilham|  4000|\n",
            "|       Gayuh|  3000|\n",
            "+------------+------+\n",
            "\n",
            "+------------+--------+------+\n",
            "|EmployeeName| Profesi|Salary|\n",
            "+------------+--------+------+\n",
            "|      Fauzan|  Dokter|  5200|\n",
            "|       Ilham|Karyawan|  4000|\n",
            "+------------+--------+------+\n",
            "\n",
            "+--------+-----------+\n",
            "| Profesi|avg(Salary)|\n",
            "+--------+-----------+\n",
            "|    Guru|     2000.0|\n",
            "|   Gamer|     1000.0|\n",
            "|   Sales|     3000.0|\n",
            "|  Dokter|     5200.0|\n",
            "|Karyawan|     4000.0|\n",
            "+--------+-----------+\n",
            "\n"
          ]
        }
      ]
    },
    {
      "cell_type": "code",
      "source": [
        "# Tugas 3 Eksplorasi bagaimana mengolah tipe data kompleks\n",
        "# Manipulasi tipe data kompleks\n",
        "df_with_bonus = df.withColumn('SalaryBonus', df['Salary'] * 0.1)\n",
        "df_with_bonus.withColumn('TotalCompensation', df_with_bonus['Salary'] + df_with_bonus['SalaryBonus']).show()"
      ],
      "metadata": {
        "colab": {
          "base_uri": "https://localhost:8080/"
        },
        "id": "1701oKLKf43s",
        "outputId": "79cac09c-f909-42aa-ae50-ce3bef071737"
      },
      "execution_count": 8,
      "outputs": [
        {
          "output_type": "stream",
          "name": "stdout",
          "text": [
            "+------------+--------+------+-----------+-----------------+\n",
            "|EmployeeName| Profesi|Salary|SalaryBonus|TotalCompensation|\n",
            "+------------+--------+------+-----------+-----------------+\n",
            "|      Ridwan|   Gamer|  1000|      100.0|           1100.0|\n",
            "|        Mila|    Guru|  2000|      200.0|           2200.0|\n",
            "|      Fauzan|  Dokter|  5200|      520.0|           5720.0|\n",
            "|       Ilham|Karyawan|  4000|      400.0|           4400.0|\n",
            "|       Gayuh|   Sales|  3000|      300.0|           3300.0|\n",
            "+------------+--------+------+-----------+-----------------+\n",
            "\n"
          ]
        }
      ]
    },
    {
      "cell_type": "code",
      "source": [
        "# Tugas 4 Implementasikan window function untuk menghitung running totals atau rangkings.\n",
        "# Menggunakan windows function\n",
        "from pyspark.sql.window import Window\n",
        "from pyspark.sql import functions as F\n",
        "\n",
        "windowSpec = Window.partitionBy('Profesi').orderBy('Salary')\n",
        "df.withColumn('Rank', F.rank().over(windowSpec)).show()"
      ],
      "metadata": {
        "colab": {
          "base_uri": "https://localhost:8080/"
        },
        "id": "eNG_gv2yhWF0",
        "outputId": "e01e59a3-4d9d-4370-ce45-3e93b3782a5f"
      },
      "execution_count": 10,
      "outputs": [
        {
          "output_type": "stream",
          "name": "stdout",
          "text": [
            "+------------+--------+------+----+\n",
            "|EmployeeName| Profesi|Salary|Rank|\n",
            "+------------+--------+------+----+\n",
            "|      Fauzan|  Dokter|  5200|   1|\n",
            "|      Ridwan|   Gamer|  1000|   1|\n",
            "|        Mila|    Guru|  2000|   1|\n",
            "|       Ilham|Karyawan|  4000|   1|\n",
            "|       Gayuh|   Sales|  3000|   1|\n",
            "+------------+--------+------+----+\n",
            "\n"
          ]
        }
      ]
    },
    {
      "cell_type": "markdown",
      "source": [
        "Tugas 5:\n",
        "\n",
        "Unduh dataset besar dari Kaggle atau sumber lainnya.\n",
        "Input data csv yang telah di download, kemudian load dan simpan data ke dalam pyspark.\n",
        "Setelah data berhasil di load menggunakan pyspark, lakukan manipulasi data untuk memperoleh informasi yang dibutuhkan"
      ],
      "metadata": {
        "id": "pHCMxo6mmImY"
      }
    },
    {
      "cell_type": "code",
      "source": [
        "!pip install opendatasets"
      ],
      "metadata": {
        "colab": {
          "base_uri": "https://localhost:8080/"
        },
        "id": "9_U1v4VfmL-6",
        "outputId": "b35a0eda-8bfe-4bcb-d793-1ee8e521fc62"
      },
      "execution_count": 11,
      "outputs": [
        {
          "output_type": "stream",
          "name": "stdout",
          "text": [
            "Collecting opendatasets\n",
            "  Downloading opendatasets-0.1.22-py3-none-any.whl.metadata (9.2 kB)\n",
            "Requirement already satisfied: tqdm in /usr/local/lib/python3.12/dist-packages (from opendatasets) (4.67.1)\n",
            "Requirement already satisfied: kaggle in /usr/local/lib/python3.12/dist-packages (from opendatasets) (1.7.4.5)\n",
            "Requirement already satisfied: click in /usr/local/lib/python3.12/dist-packages (from opendatasets) (8.2.1)\n",
            "Requirement already satisfied: bleach in /usr/local/lib/python3.12/dist-packages (from kaggle->opendatasets) (6.2.0)\n",
            "Requirement already satisfied: certifi>=14.05.14 in /usr/local/lib/python3.12/dist-packages (from kaggle->opendatasets) (2025.8.3)\n",
            "Requirement already satisfied: charset-normalizer in /usr/local/lib/python3.12/dist-packages (from kaggle->opendatasets) (3.4.3)\n",
            "Requirement already satisfied: idna in /usr/local/lib/python3.12/dist-packages (from kaggle->opendatasets) (3.10)\n",
            "Requirement already satisfied: protobuf in /usr/local/lib/python3.12/dist-packages (from kaggle->opendatasets) (5.29.5)\n",
            "Requirement already satisfied: python-dateutil>=2.5.3 in /usr/local/lib/python3.12/dist-packages (from kaggle->opendatasets) (2.9.0.post0)\n",
            "Requirement already satisfied: python-slugify in /usr/local/lib/python3.12/dist-packages (from kaggle->opendatasets) (8.0.4)\n",
            "Requirement already satisfied: requests in /usr/local/lib/python3.12/dist-packages (from kaggle->opendatasets) (2.32.4)\n",
            "Requirement already satisfied: setuptools>=21.0.0 in /usr/local/lib/python3.12/dist-packages (from kaggle->opendatasets) (75.2.0)\n",
            "Requirement already satisfied: six>=1.10 in /usr/local/lib/python3.12/dist-packages (from kaggle->opendatasets) (1.17.0)\n",
            "Requirement already satisfied: text-unidecode in /usr/local/lib/python3.12/dist-packages (from kaggle->opendatasets) (1.3)\n",
            "Requirement already satisfied: urllib3>=1.15.1 in /usr/local/lib/python3.12/dist-packages (from kaggle->opendatasets) (2.5.0)\n",
            "Requirement already satisfied: webencodings in /usr/local/lib/python3.12/dist-packages (from kaggle->opendatasets) (0.5.1)\n",
            "Downloading opendatasets-0.1.22-py3-none-any.whl (15 kB)\n",
            "Installing collected packages: opendatasets\n",
            "Successfully installed opendatasets-0.1.22\n"
          ]
        }
      ]
    },
    {
      "cell_type": "code",
      "source": [
        "import opendatasets as od\n",
        "od.download(\"https://www.kaggle.com/datasets/abiyyurasyiq/mobile-legends-google-play-reviews\")"
      ],
      "metadata": {
        "colab": {
          "base_uri": "https://localhost:8080/"
        },
        "id": "LS5ybj8Im5ux",
        "outputId": "9927fc2d-639f-4717-8ce3-a7ffb875cf9f"
      },
      "execution_count": 13,
      "outputs": [
        {
          "output_type": "stream",
          "name": "stdout",
          "text": [
            "Please provide your Kaggle credentials to download this dataset. Learn more: http://bit.ly/kaggle-creds\n",
            "Your Kaggle username: Muhamad Ridwansah\n",
            "Your Kaggle Key: ··········\n",
            "Dataset URL: https://www.kaggle.com/datasets/abiyyurasyiq/mobile-legends-google-play-reviews\n",
            "Downloading mobile-legends-google-play-reviews.zip to ./mobile-legends-google-play-reviews\n"
          ]
        },
        {
          "output_type": "stream",
          "name": "stderr",
          "text": [
            "100%|██████████| 3.54M/3.54M [00:00<00:00, 403MB/s]"
          ]
        },
        {
          "output_type": "stream",
          "name": "stdout",
          "text": [
            "\n"
          ]
        },
        {
          "output_type": "stream",
          "name": "stderr",
          "text": [
            "\n"
          ]
        }
      ]
    },
    {
      "cell_type": "code",
      "source": [
        "# Load Dataset\n",
        "from pyspark.sql import SparkSession\n",
        "\n",
        "# Buat SparkSession\n",
        "spark = SparkSession.builder.appName(\"mobile_legends_reviews\").getOrCreate()\n",
        "\n",
        "# Load dataset\n",
        "df = spark.read.csv(\"/content/mobile-legends-google-play-reviews/mobile_legends_reviews.csv\", header=True, inferSchema=True)\n",
        "\n",
        "# Lihat schema dan 5 data awal\n",
        "df.printSchema()\n",
        "df.show(5)"
      ],
      "metadata": {
        "colab": {
          "base_uri": "https://localhost:8080/"
        },
        "id": "3PhdgBJDoSeg",
        "outputId": "f814455f-6b9a-4153-d874-2f1a5e2df1c2"
      },
      "execution_count": 16,
      "outputs": [
        {
          "output_type": "stream",
          "name": "stdout",
          "text": [
            "root\n",
            " |-- reviewId: string (nullable = true)\n",
            " |-- userName: string (nullable = true)\n",
            " |-- content: string (nullable = true)\n",
            " |-- score: string (nullable = true)\n",
            " |-- thumbsUpCount: string (nullable = true)\n",
            " |-- at: string (nullable = true)\n",
            "\n",
            "+--------------------+-------------+--------------------+-----+-------------+-------------------+\n",
            "|            reviewId|     userName|             content|score|thumbsUpCount|                 at|\n",
            "+--------------------+-------------+--------------------+-----+-------------+-------------------+\n",
            "|d9b3706c-a29d-466...|A Google user|Love this game. H...|    5|            0|2025-06-10 13:20:23|\n",
            "|cc717825-ea2b-444...|A Google user|the graphics? 10/...|    5|            0|2025-06-10 13:19:39|\n",
            "|f3c5353d-65f8-486...|A Google user|Horrible. your ma...|    1|            0|2025-06-10 13:18:52|\n",
            "|5d2611d3-dfda-41b...|A Google user|dark system. fix ...|    1|            0|2025-06-10 13:15:51|\n",
            "|38f96ac5-c264-404...|A Google user|This game has a s...|    1|            0|2025-06-10 13:11:34|\n",
            "+--------------------+-------------+--------------------+-----+-------------+-------------------+\n",
            "only showing top 5 rows\n",
            "\n"
          ]
        }
      ]
    },
    {
      "cell_type": "code",
      "source": [
        "# Menampilkan jumlah data\n",
        "print(\"Jumlah data:\", df.count())"
      ],
      "metadata": {
        "colab": {
          "base_uri": "https://localhost:8080/"
        },
        "id": "itUJu4REs99m",
        "outputId": "1b7efb25-6ecf-413e-ed11-5963984b005d"
      },
      "execution_count": 17,
      "outputs": [
        {
          "output_type": "stream",
          "name": "stdout",
          "text": [
            "Jumlah data: 52658\n"
          ]
        }
      ]
    },
    {
      "cell_type": "code",
      "source": [
        "# Nilai rata-rata score dan thumbsUpCount\n",
        "df.selectExpr(\n",
        "    \"avg(cast(score as int)) as rata_score\",\n",
        "    \"avg(cast(thumbsUpCount as int)) as rata_thumbsUp\"\n",
        ").show()"
      ],
      "metadata": {
        "colab": {
          "base_uri": "https://localhost:8080/"
        },
        "id": "e1BQUijXuZow",
        "outputId": "9b64f3d9-aadd-4e2b-f0c5-00d70d16540d"
      },
      "execution_count": 20,
      "outputs": [
        {
          "output_type": "stream",
          "name": "stdout",
          "text": [
            "+------------------+-----------------+\n",
            "|        rata_score|    rata_thumbsUp|\n",
            "+------------------+-----------------+\n",
            "|3.1614073960880194|4.706089706947144|\n",
            "+------------------+-----------------+\n",
            "\n"
          ]
        }
      ]
    },
    {
      "cell_type": "code",
      "source": [
        "from pyspark.sql import functions as F\n",
        "\n",
        "df = df.withColumn(\"score\", F.col(\"score\").cast(\"int\"))\n",
        "df = df.withColumn(\"thumbsUpCount\", F.col(\"thumbsUpCount\").cast(\"int\"))\n",
        "\n",
        "# Rata-rata skor review berdasarkan userName\n",
        "df.groupBy(\"userName\") \\\n",
        "  .agg(\n",
        "      F.avg(\"score\").alias(\"avg_score\"),\n",
        "      F.avg(\"thumbsUpCount\").alias(\"avg_thumbsUp\")\n",
        "  ).show(10)\n",
        "\n",
        "# Rata-rata skor review berdasarkan tanggal (at)\n",
        "df.groupBy(\"at\") \\\n",
        "  .agg(\n",
        "      F.avg(\"score\").alias(\"avg_score\"),\n",
        "      F.avg(\"thumbsUpCount\").alias(\"avg_thumbsUp\")\n",
        "  ).show(10)\n"
      ],
      "metadata": {
        "colab": {
          "base_uri": "https://localhost:8080/"
        },
        "id": "8msYyIv2x3rN",
        "outputId": "1edd26d8-7fcc-4e7f-e402-30de87fca2e4"
      },
      "execution_count": 28,
      "outputs": [
        {
          "output_type": "stream",
          "name": "stdout",
          "text": [
            "+--------------------+-----------------+-----------------+\n",
            "|            userName|        avg_score|     avg_thumbsUp|\n",
            "+--------------------+-----------------+-----------------+\n",
            "|                   3|             NULL|             NULL|\n",
            "|                NULL|             NULL|             NULL|\n",
            "|       A Google user|3.163799594555459|4.461165142031777|\n",
            "|                   2|             NULL|             NULL|\n",
            "| Angelica Ann Dingal|              1.0|              0.0|\n",
            "| John marvin Bordado|              3.0|              0.0|\n",
            "|       David Naldoza|              1.0|              1.0|\n",
            "|     thanura rukshan|              1.0|              1.0|\n",
            "|Ziv Nathan De castro|              1.0|              0.0|\n",
            "|           Pepsi Man|              5.0|              0.0|\n",
            "+--------------------+-----------------+-----------------+\n",
            "only showing top 10 rows\n",
            "\n",
            "+-------------------+---------+------------+\n",
            "|                 at|avg_score|avg_thumbsUp|\n",
            "+-------------------+---------+------------+\n",
            "|2025-06-10 12:49:30|      1.0|         1.0|\n",
            "|2025-06-10 08:41:58|      1.0|         0.0|\n",
            "|2025-06-08 10:49:32|      2.0|         1.0|\n",
            "|2025-06-08 06:38:01|      5.0|         0.0|\n",
            "|2025-06-07 20:41:37|      1.0|         1.0|\n",
            "|2025-06-07 06:41:35|      1.0|         0.0|\n",
            "|2025-06-06 09:17:59|      5.0|         0.0|\n",
            "|2025-06-06 02:49:35|      1.0|         0.0|\n",
            "|2025-06-06 01:58:10|      5.0|         0.0|\n",
            "|2025-06-05 09:14:28|      1.0|         2.0|\n",
            "+-------------------+---------+------------+\n",
            "only showing top 10 rows\n",
            "\n"
          ]
        }
      ]
    },
    {
      "cell_type": "code",
      "source": [
        "from pyspark.sql import functions as F\n",
        "\n",
        "df = df.withColumn(\"score\", F.col(\"score\").cast(\"int\"))\n",
        "df = df.withColumn(\"thumbsUpCount\", F.col(\"thumbsUpCount\").cast(\"int\"))\n",
        "\n",
        "df = df.withColumn(\n",
        "    \"sentiment\",\n",
        "    F.when(F.col(\"score\") >= 3, \"positif\").otherwise(\"negatif\")\n",
        ")\n",
        "\n",
        "# Hitung rata-rata berdasarkan positif negatif\n",
        "df.groupBy(\"sentiment\") \\\n",
        "  .agg(\n",
        "      F.avg(\"score\").alias(\"avg_score\"),\n",
        "      F.avg(\"thumbsUpCount\").alias(\"avg_thumbsUp\")\n",
        "  ).show()"
      ],
      "metadata": {
        "colab": {
          "base_uri": "https://localhost:8080/"
        },
        "id": "w164mEUvzVAQ",
        "outputId": "d0d52f43-492b-4a3e-c659-1a01f0226697"
      },
      "execution_count": 29,
      "outputs": [
        {
          "output_type": "stream",
          "name": "stdout",
          "text": [
            "+---------+------------------+-----------------+\n",
            "|sentiment|         avg_score|     avg_thumbsUp|\n",
            "+---------+------------------+-----------------+\n",
            "|  negatif|1.0929371307644828|6.596922672277748|\n",
            "|  positif| 4.742703067071115|3.252308729356252|\n",
            "+---------+------------------+-----------------+\n",
            "\n"
          ]
        }
      ]
    }
  ]
}